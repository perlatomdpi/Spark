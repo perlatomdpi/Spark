{
  "nbformat": 4,
  "nbformat_minor": 0,
  "metadata": {
    "colab": {
      "name": "Databricks-Setup.ipynb",
      "provenance": [],
      "collapsed_sections": [],
      "authorship_tag": "ABX9TyN69KZiD263r7gd9d/+uYCW",
      "include_colab_link": true
    },
    "kernelspec": {
      "name": "python3",
      "display_name": "Python 3"
    }
  },
  "cells": [
    {
      "cell_type": "markdown",
      "metadata": {
        "id": "view-in-github",
        "colab_type": "text"
      },
      "source": [
        "<a href=\"https://colab.research.google.com/github/perlatomdpi/Spark/blob/main/Databricks_Setup.ipynb\" target=\"_parent\"><img src=\"https://colab.research.google.com/assets/colab-badge.svg\" alt=\"Open In Colab\"/></a>"
      ]
    },
    {
      "cell_type": "markdown",
      "metadata": {
        "id": "ecQUyxxpJZVp"
      },
      "source": [
        "# **Databricks setup**\n",
        "Databricks is a company that provides clusters that run on top of AWS and adds a convience of having notebook system already set up. <br>\n",
        "There is a community versiion that support a 6GB cluster: <br>\n",
        "https://databricks.com/try-databricks\n"
      ]
    },
    {
      "cell_type": "code",
      "metadata": {
        "id": "Zl6GYWxiGX0t"
      },
      "source": [
        ""
      ],
      "execution_count": null,
      "outputs": []
    }
  ]
}